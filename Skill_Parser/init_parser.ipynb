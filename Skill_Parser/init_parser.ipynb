{
 "cells": [
  {
   "cell_type": "code",
   "execution_count": 1,
   "metadata": {},
   "outputs": [],
   "source": [
    "import pandas as pd\n",
    "import re\n",
    "import os\n",
    "import spacy\n",
    "from scipy import constants\n",
    "from spacy_conll import init_parser\n",
    "from nltk.tokenize import word_tokenize\n",
    "from nltk.translate import AlignedSent\n",
    "from nltk.translate import IBMModel1\n",
    "from langdetect import detect\n",
    "from googletrans import Translator\n",
    "from tqdm import tqdm\n",
    "import pandas as pd\n",
    "from spacy.matcher import PhraseMatcher\n",
    "from collections import Counter\n",
    "import pandas as pd\n",
    "import matplotlib.pyplot as plt\n",
    "import seaborn as sns\n",
    "from collections import Counter\n",
    "import textwrap\n",
    "from nltk.tokenize import word_tokenize, RegexpTokenizer\n",
    "from nltk.corpus import stopwords\n",
    "from nltk.stem import PorterStemmer, LancasterStemmer"
   ]
  },
  {
   "cell_type": "code",
   "execution_count": 3,
   "metadata": {},
   "outputs": [],
   "source": [
    "# DATA_PATH = '<path for your resume/job description file>'\n",
    "DATA_PATH = './input/arrayJobList.json'\n",
    "# SKILL_FILE_PATH = '<path for the skill-set file>'\n",
    "SKILL_FILE_PATH = './input/Updated_Skillset_Data_Lowercase.xlsx'"
   ]
  },
  {
   "cell_type": "markdown",
   "metadata": {},
   "source": [
    "# Matcher the skill from the corpus with the skill extracted"
   ]
  },
  {
   "cell_type": "code",
   "execution_count": 4,
   "metadata": {},
   "outputs": [],
   "source": [
    "def init_parser_func(nlp, SKILL_FILE_PATH, file_type='csv'):\n",
    "    \"\"\"\n",
    "    This function initializes the nlp PhraseMatcher\n",
    "    and reads the skill-set data file in an excel/csv format\n",
    "    \n",
    "    :param nlp: It is an NLP load instance, ex: nlp.load(\"en_core_web_sm\")\n",
    "    :param SKILL_FILE_PATH: Path for the data file\n",
    "    :param file_type: csv/excel, default = csv\n",
    "    :return: Returns a PhraseMatcher object.\n",
    "    \"\"\"\n",
    "    \n",
    "    if file_type == \"excel\":\n",
    "        keyword_df = pd.read_excel(SKILL_FILE_PATH)\n",
    "    elif file_type == \"csv\":\n",
    "        keyword_df = pd.read_csv(SKILL_FILE_PATH)\n",
    "    else:\n",
    "        raise ValueError(\"Unsupported file type. Supported types: 'excel', 'csv'.\")\n",
    "    \n",
    "    matcher = PhraseMatcher(nlp.vocab)\n",
    "    \n",
    "    for column in keyword_df.columns:\n",
    "        patterns = [nlp(text) for text in keyword_df[column].dropna()]\n",
    "        matcher.add(column, None, *patterns)\n",
    "    \n",
    "    return matcher\n"
   ]
  },
  {
   "cell_type": "code",
   "execution_count": 5,
   "metadata": {},
   "outputs": [],
   "source": [
    "# def create_profile(nlp, matcher,text,application_subject):\n",
    "# \t\"\"\"\n",
    "# \tThis funciton creates a profile of one sample row \n",
    "# \tin the dataset\n",
    "\n",
    "# \t:param nlp: nlp load object with phrasematcher already initialized\n",
    "# \t:param matcher: Custom PhraseMatcher object\n",
    "# \t:param text: Resume/JD text data\n",
    "# \t:param application_subject: company/applicant's name \n",
    "# \t:return: returns the particular profile in a dataframe format\n",
    "# \t\"\"\"\t\n",
    "\n",
    "# \t# Get the matches from the text\n",
    "# \tdoc = nlp(text)\n",
    "# \tmatches = matcher(doc)\n",
    "\t\n",
    "# \t# Create a dataframe to return\n",
    "# \td = []\n",
    "# \tfor match_id, start, end in matches:\n",
    "# \t\trule_id = nlp.vocab.strings[match_id]  # get the Skill, eg: 'Machine Learning'\n",
    "# \t\tspan = doc[start : end]  # get the Sub-skill, eg: 'Regression'\n",
    "# \t\td.append((rule_id, span.text))\n",
    "# \tdata = []\n",
    "# \tfor each,count in Counter(d).items():\n",
    "# \t\tdata.append([application_subject,*each,count])\n",
    "# \tdataf = pd.DataFrame(data,columns=['Company/Candidate Name','Skill','Sub-skill','Count'])\n",
    "# \treturn(dataf)\n",
    "\n",
    "def create_profile(nlp, matcher, text, role, application_subject):\n",
    "    \"\"\"\n",
    "    This function creates a profile of one sample row \n",
    "    in the dataset\n",
    "\n",
    "    :param nlp: nlp load object with phrasematcher already initialized\n",
    "    :param matcher: Custom PhraseMatcher object\n",
    "    :param text: Resume/JD text data\n",
    "    :param application_subject: company/applicant's name \n",
    "    :return: returns the particular profile in a dataframe format\n",
    "    \"\"\"    \n",
    "\n",
    "    # Get the matches from the text\n",
    "    doc = nlp(text)\n",
    "    matches = matcher(doc)\n",
    "    \n",
    "    # Create a list to store extracted skills\n",
    "    skills = []\n",
    "\n",
    "    # Iterate through matches and extract skills\n",
    "    for match_id, start, end in matches:\n",
    "        rule_id = nlp.vocab.strings[match_id]  # get the Skill, eg: 'Machine Learning'\n",
    "        span = doc[start : end]  # get the Sub-skill, eg: 'Regression'\n",
    "        skills.append((application_subject, rule_id, span.text))\n",
    "    \n",
    "    # Count occurrences of each skill\n",
    "    skill_counts = Counter(skills)\n",
    "    \n",
    "    # Prepare data for DataFrame\n",
    "    data = []\n",
    "    for (company_name, skill, sub_skill), count in skill_counts.items():\n",
    "        data.append([company_name, role, skill, sub_skill, count])\n",
    "    \n",
    "    # Create DataFrame\n",
    "    dataf = pd.DataFrame(data, columns=['Company/Candidate Name', 'Role', 'Skill', 'Sub-skill', 'Count'])\n",
    "    \n",
    "    return dataf\n",
    "\n",
    "\n",
    "def plot_df(final_database):\n",
    "\t\"\"\"\n",
    "\tThis function simply plots the final\n",
    "\tplot for skill analysis\n",
    "\tAnd also saves the final png file\n",
    "\n",
    "\t:param final_database: dataframe of employees/JD and skills\n",
    "\t:output 1: saves a png file\n",
    "\t:output 2: saves a final excel sheet \n",
    "\t\"\"\"\n",
    "\n",
    "\tfinal_database2 = final_database['Sub-skill'].groupby([final_database['Company/Candidate Name'], final_database['Skill']]).count().unstack()\n",
    "\tfinal_database2.reset_index(inplace = True)\n",
    "\tfinal_database2.fillna(0,inplace=True)\n",
    "\tnew_data = final_database2.iloc[:,1:]\n",
    "\tnew_data.index = final_database2['Company/Candidate Name']\n",
    "\t\n",
    "\t# Execute the below line if you want to see the JD profile in a csv format\n",
    "\tnew_data.to_csv('./output/skillset.csv')\n",
    "\t\n",
    "\tplt.rcParams.update({'font.size': 6})\n",
    "\tax = new_data.plot.barh(title=\"JD/Resume keywords by category\", legend=True, figsize=(26,26), stacked=True)\n",
    "\tlabels = []\n",
    "\tfor j in new_data.columns:\n",
    "\t\tfor i in new_data.index:\n",
    "\t\t\tlabel = str(j)+\": \" + str(new_data.loc[i][j])\n",
    "\t\t\tlabels.append(label)\n",
    "\tpatches = ax.patches\n",
    "\tfor label, rect in zip(labels, patches):\n",
    "\t\twidth = rect.get_width()\n",
    "\t\tif width > 0:\n",
    "\t\t\tx = rect.get_x()\n",
    "\t\t\ty = rect.get_y()\n",
    "\t\t\theight = rect.get_height()\n",
    "\t\t\tax.text(x + width/2., y + height/2., label, ha='center', va='center')\n",
    "\tplt.savefig('./output/graph.png')\n",
    "\tplt.show()\n"
   ]
  },
  {
   "cell_type": "markdown",
   "metadata": {},
   "source": [
    "# Data Preprocessing"
   ]
  },
  {
   "cell_type": "code",
   "execution_count": 6,
   "metadata": {},
   "outputs": [],
   "source": [
    "def wrap_text(text, width=150):\n",
    "    return '\\n'.join(textwrap.wrap(text, width=width))\n",
    "\n",
    "def clean_text(text):\n",
    "    if isinstance(text, str):  # Check if text is a string\n",
    "        # Remove extra whitespace characters and newline characters\n",
    "        text = re.sub(r'\\s+', ' ', text)\n",
    "        \n",
    "        # Replace specific unwanted characters (customize as needed)\n",
    "        text = text.replace('：', ':')\n",
    "        \n",
    "        # Remove digits\n",
    "        text = re.sub(r'\\d+', '', text)\n",
    "        \n",
    "        # Remove non-ASCII characters (if necessary)\n",
    "        text = ''.join(char for char in text if 31 < ord(char) < 128)\n",
    "        \n",
    "        return text.strip()\n",
    "    else:\n",
    "        return \"\"\n",
    "\n",
    "def translate_text(text):\n",
    "    try:\n",
    "        # Detect the language of the input text\n",
    "        lang = detect(text)\n",
    "        \n",
    "        # If the detected language is English, return the original text\n",
    "        if lang == 'en':\n",
    "            return text\n",
    "    \n",
    "        # Initialize the Translator object\n",
    "        translator = Translator()\n",
    "        \n",
    "        # Translate text from detected language to English\n",
    "        translation = translator.translate(text, src=lang, dest='en')\n",
    "        \n",
    "        # Return the translated text\n",
    "        return translation.text\n",
    "    \n",
    "    except Exception as e:\n",
    "        print(f\"Translation error: {e}\")\n",
    "        return None\n",
    "    \n",
    "def join_tokens(tokens):\n",
    "    if isinstance(tokens, list):  # Check if tokens are already a list of tokens\n",
    "        return ' '.join(tokens)   # Join tokens into a sentence\n",
    "    else:\n",
    "        return ''  "
   ]
  },
  {
   "cell_type": "code",
   "execution_count": 7,
   "metadata": {},
   "outputs": [
    {
     "data": {
      "text/html": [
       "<div>\n",
       "<style scoped>\n",
       "    .dataframe tbody tr th:only-of-type {\n",
       "        vertical-align: middle;\n",
       "    }\n",
       "\n",
       "    .dataframe tbody tr th {\n",
       "        vertical-align: top;\n",
       "    }\n",
       "\n",
       "    .dataframe thead th {\n",
       "        text-align: right;\n",
       "    }\n",
       "</style>\n",
       "<table border=\"1\" class=\"dataframe\">\n",
       "  <thead>\n",
       "    <tr style=\"text-align: right;\">\n",
       "      <th></th>\n",
       "      <th>Company Name</th>\n",
       "      <th>Role</th>\n",
       "      <th>Location</th>\n",
       "      <th>Posted Time</th>\n",
       "      <th>Applicants</th>\n",
       "      <th>Work Type</th>\n",
       "      <th>Employment Type</th>\n",
       "      <th>Company Size</th>\n",
       "      <th>About The Job</th>\n",
       "      <th>About The Company</th>\n",
       "    </tr>\n",
       "  </thead>\n",
       "  <tbody>\n",
       "    <tr>\n",
       "      <th>0</th>\n",
       "      <td>Entravision APAC</td>\n",
       "      <td>Client Partner - Pinterest</td>\n",
       "      <td>Ho Chi Minh City, Vietnam</td>\n",
       "      <td>2 weeks ago</td>\n",
       "      <td>40 applicants</td>\n",
       "      <td>Hybrid</td>\n",
       "      <td>Full-time</td>\n",
       "      <td>51-200</td>\n",
       "      <td>Entravision is a leading advertising, media, c...</td>\n",
       "      <td>Entravision is an online advertising and techn...</td>\n",
       "    </tr>\n",
       "    <tr>\n",
       "      <th>1</th>\n",
       "      <td>Ivoclar</td>\n",
       "      <td>Business Development Manager</td>\n",
       "      <td>Ho Chi Minh City, Vietnam</td>\n",
       "      <td>2 weeks ago</td>\n",
       "      <td>Over 100 applicants</td>\n",
       "      <td>On-site</td>\n",
       "      <td>Full-time</td>\n",
       "      <td>1,001-5,000</td>\n",
       "      <td>Your Responsibilities      Implementing Ivocla...</td>\n",
       "      <td>Going strong since 1923! About The Ivoclar Gro...</td>\n",
       "    </tr>\n",
       "    <tr>\n",
       "      <th>2</th>\n",
       "      <td>Hyphen Deux Co. Ltd.</td>\n",
       "      <td>RTL DESIGN ENGINEER</td>\n",
       "      <td>Thủ Đức, Ho Chi Minh City, Vietnam</td>\n",
       "      <td>2 days ago</td>\n",
       "      <td>16 applicants</td>\n",
       "      <td>On-site</td>\n",
       "      <td>Full-time</td>\n",
       "      <td>11-50</td>\n",
       "      <td>We have exciting job openings, including the p...</td>\n",
       "      <td>Let’s step into the era of Cutting-Edge AI Chi...</td>\n",
       "    </tr>\n",
       "    <tr>\n",
       "      <th>3</th>\n",
       "      <td>SID Global Solutions</td>\n",
       "      <td>Enterprise Sales Executive</td>\n",
       "      <td>Ho Chi Minh City, Vietnam</td>\n",
       "      <td>2 weeks ago</td>\n",
       "      <td>29 applicants</td>\n",
       "      <td>On-site</td>\n",
       "      <td>Full-time</td>\n",
       "      <td>201-500</td>\n",
       "      <td>Role: Enterprise Sales Executive (BFSI Domain)...</td>\n",
       "      <td>SID Global Solutions is a premium implementati...</td>\n",
       "    </tr>\n",
       "    <tr>\n",
       "      <th>4</th>\n",
       "      <td>PHILIA DX</td>\n",
       "      <td>UNREAL ENGINE ARTIST / CG Generalist</td>\n",
       "      <td>Ho Chi Minh City, Vietnam</td>\n",
       "      <td>6 days ago</td>\n",
       "      <td>4 applicants</td>\n",
       "      <td>On-site</td>\n",
       "      <td>Full-time</td>\n",
       "      <td>51-200</td>\n",
       "      <td>PHILIA DX RECRUIMENT - UNREAL ENGINE ARTIST(Se...</td>\n",
       "      <td>PHILIA DX IS A COMPANY THAT THRIVES AT THE INT...</td>\n",
       "    </tr>\n",
       "  </tbody>\n",
       "</table>\n",
       "</div>"
      ],
      "text/plain": [
       "           Company Name                                  Role  \\\n",
       "0      Entravision APAC            Client Partner - Pinterest   \n",
       "1               Ivoclar          Business Development Manager   \n",
       "2  Hyphen Deux Co. Ltd.                   RTL DESIGN ENGINEER   \n",
       "3  SID Global Solutions            Enterprise Sales Executive   \n",
       "4             PHILIA DX  UNREAL ENGINE ARTIST / CG Generalist   \n",
       "\n",
       "                             Location  Posted Time           Applicants  \\\n",
       "0           Ho Chi Minh City, Vietnam  2 weeks ago        40 applicants   \n",
       "1           Ho Chi Minh City, Vietnam  2 weeks ago  Over 100 applicants   \n",
       "2  Thủ Đức, Ho Chi Minh City, Vietnam   2 days ago        16 applicants   \n",
       "3           Ho Chi Minh City, Vietnam  2 weeks ago        29 applicants   \n",
       "4           Ho Chi Minh City, Vietnam   6 days ago         4 applicants   \n",
       "\n",
       "  Work Type Employment Type Company Size  \\\n",
       "0    Hybrid       Full-time       51-200   \n",
       "1   On-site       Full-time  1,001-5,000   \n",
       "2   On-site       Full-time        11-50   \n",
       "3   On-site       Full-time      201-500   \n",
       "4   On-site       Full-time       51-200   \n",
       "\n",
       "                                       About The Job  \\\n",
       "0  Entravision is a leading advertising, media, c...   \n",
       "1  Your Responsibilities      Implementing Ivocla...   \n",
       "2  We have exciting job openings, including the p...   \n",
       "3  Role: Enterprise Sales Executive (BFSI Domain)...   \n",
       "4  PHILIA DX RECRUIMENT - UNREAL ENGINE ARTIST(Se...   \n",
       "\n",
       "                                   About The Company  \n",
       "0  Entravision is an online advertising and techn...  \n",
       "1  Going strong since 1923! About The Ivoclar Gro...  \n",
       "2  Let’s step into the era of Cutting-Edge AI Chi...  \n",
       "3  SID Global Solutions is a premium implementati...  \n",
       "4  PHILIA DX IS A COMPANY THAT THRIVES AT THE INT...  "
      ]
     },
     "execution_count": 7,
     "metadata": {},
     "output_type": "execute_result"
    }
   ],
   "source": [
    "# Read the Excel file\n",
    "df = pd.read_json(DATA_PATH)\n",
    "df.head(5)"
   ]
  },
  {
   "cell_type": "code",
   "execution_count": 8,
   "metadata": {},
   "outputs": [],
   "source": [
    "df = df[[\"Company Name\",\"Role\",\"About The Job\"]]"
   ]
  },
  {
   "cell_type": "code",
   "execution_count": 9,
   "metadata": {},
   "outputs": [
    {
     "data": {
      "text/plain": [
       "(1000, 3)"
      ]
     },
     "execution_count": 9,
     "metadata": {},
     "output_type": "execute_result"
    }
   ],
   "source": [
    "df.shape"
   ]
  },
  {
   "cell_type": "code",
   "execution_count": 10,
   "metadata": {},
   "outputs": [
    {
     "data": {
      "text/plain": [
       "Company Name     67\n",
       "Role              0\n",
       "About The Job     0\n",
       "dtype: int64"
      ]
     },
     "execution_count": 10,
     "metadata": {},
     "output_type": "execute_result"
    }
   ],
   "source": [
    "df.isnull().sum()"
   ]
  },
  {
   "cell_type": "code",
   "execution_count": 11,
   "metadata": {},
   "outputs": [],
   "source": [
    "df.dropna(subset=\"Company Name\", inplace=True)"
   ]
  },
  {
   "cell_type": "code",
   "execution_count": 12,
   "metadata": {},
   "outputs": [
    {
     "data": {
      "text/plain": [
       "Company Name             Role                                                                         About The Job                                                                                                                                                                                                                                                                                                                                                                                                                                                                                                                                                                                                                                                                                                                                                                                                                                                                                                                                                                                                                                                                                                                                                                                                                                                                                                                                                                                                                                                                                                                                                                                                                                                                                                                                                                                                                                                                                                                                                                                                                                                                                                                                                                                                                                                                                                                                                                                                                                                                                                                                                                                                                                                                                                                                                                                                                                                                                                                                                                                                                                                                                                                                                                                                                                                                                                                                                                                                                                                                                                                                                                       \n",
       "NTU International A/S    National Experts in Renewable Energy Development                             NTU is leading a strong international consortium for the EU SEA 2023 Framework Contract LOT 1 – Climate Change, Sustainable Energy, Nuclear Safety and we are looking to expand our network with skilled local partners and Experts interested to work in the target countries.We are building up a pool of experts who will be interested in short term assignments on the various SEA priorities under this framework contract. If you are interested in such short-term assignments, please apply to be included in our pool of potential experts. We will directly contact you when we have an assignment suitable for your profile and region. Keep updated and follow us at https://www.linkedin.com/company/ntu-international for more information on our projects.Position: National Experts in Renewable Energy DevelopmentQualifications and skills:      Degree (minimum three years) in a related fieldin national energy policy development and familiarity with the latest EU energy policy requirements would be an assetwork experience in EU-funded or other international projects is advantageous.\\nLanguage skills:      Excellent command of English (CEFR C1) (Minimum requirement)\\nIf you are interested in this position, please apply and upload your CV. Please also make sure that you include one or more telephone numbers.Please note that only selected candidates will be contacted due to the large amount of applicants.                                                                                                                                                                                                                                                                                                                                                                                                                                                                                                                                                                                                                                                                                                                                                                                                                                                                                                                                                                                                                                                                                                                                                                                                                                                                                                                                                                                                                                                                                                                                                                                                                                                                                                                                                                                                                                                                                                                                                                                                                                                                                                                             2\n",
       "Confluence               Associate Client Consultant                                                  Department: Client ExperienceEmployment Type: Fixed Term ContractLocation: Ho Chi Minh CityReporting To: Ha NguyenDescriptionLocationWhy Confluence? Over the past several years we have undergone a great deal of positive change and growth to become the company we are today. Our global footprint now spans multiple countries, giving our employees the opportunity to get exposure to other countries and cultures. And it stands to reason that none of this would have been possible without the hundreds of hard-working employees who work at Confluence.More about the role & teamSeeking highly motivated individuals who can self-manage but also excel working within global professional service teams. Individuals need to be able to use critical problem-solving skills to define, execute, and drive solutions to completion. Individuals need to be able to adapt in a fast-paced environment whilst completing project deliverables across multiple client projects, on time and within budget. In addition, individuals that have a familiarity with computer science or fintech market knowledge are preferred.What skills and experience do I need to succeed?You will need 0-2 years of experience within FinTech, Software and IT related businesses.Great communication is essential. Strong analytical skills with the ability to interpret data and draw meaningful insights.You must be highly organized.Hours of work are 3pm to 11pm Vietnam time. You may have worked as a ‘Client Consultant’, or “Associate Consultant”.What do we offer?BenefitsConfluence offers generous benefit packages for team members. As a growing, global organization, we are always looking for ways to ensure that our employees can access benefits that matter to them and their families. This includes:🕚 Generous Time Off packages including additional half days with each public holiday in your location.🌎 Global Career Development opportunities🎊 Social Events💵 Referral Bonus scheme - Upto $3,000 per successful referral🚀 Plus many more!More about the LocationWe offer flexible working options for all employees.ValuesWe look for people who align with our 4 values.IntegrityFace reality with honesty, courage and accountabilityImaginationDeal creatively with challenges and envision what the world could beDisciplineBuild good habits into reflexes which become a part of our lifeServiceCommitted to the success of othersIf you would like to find out more about a Career at Confluence, please apply today.                                                                                                                                                                                                                                                                                                                                                                                                                                                                                                                                                                                                                                                                                                                                                                                                                                                                                                                                                                                                                             2\n",
       "Publicis Groupe Vietnam  Leo Burnett | Social Outreach Associate Manager                              We help grow many of the world's most iconic brands at Leo Burnett. We help grow even more of the world's most talented people. You'll find at Leo Burnett an agency built on ideas and dependent upon the people behind them. A culture that doesn't just respect creativity but cherishes it. And a community where the path you choose is your own, the places you can go limitless. We believe creativity has the power to transform human behavior, and we use ours to help our clients' brands discover their \"human purpose\" and play meaningful, active roles in people's lives.Job DescriptionThe role is responsible for managing the partnership relationship with key partners that manage our Client’s social platforms and optimization of its performance. He or she implements an online community strategy to manage the voice of consumers on the non-owned social channels to maximize the awareness and purchase consideration of Samsung’s products throughout the year.Responsible for:      Work with more than 30partners (tech forum and tech opinion leaders)across Technology Industry to enhance the partnership relationship throughout the year for Samsung Mobile business. Most worked on YouTube, Forum, and Tik Tok platforms.In monitoring and participating in social conversations to build client product visibility, support brand awareness, and engagement measured by Social Listening Tool key metrics.Manage VOC (voice of the consumer) and escalate as necessary and appropriate on managed communities monitor conversations and user-generated comments and escalate to internal and client as necessary through campaigns.Monitor, analyze, and report on Social Outreach platform performance and provides always-on consultancy to optimize channel performance to maintain Samsung Mobile's business on a monthly/quarterly/yearly scale.Work closely, coordinate, and effectively integrate with internal team and external team (third-party partners) to ensure optimization for the good result of Social Outreach for Samsung Mobile.Regularly feedback insights gained from social media monitoring to help evolve the social strategy for optimizing Social Outreach performance.Stay on top of industry trends, seeks out and shares information on new channel opportunities to apply to client business needs.People Management: Training, lead and guide team membersReport to Social Outreach Lead, partners with Account team.\\nQualifications      At least 3 years of work experience, preferably in digital and/or social media marketing related to the mobile technology industry. (Tech Forum / Tech Opinion Leader – Influencers)Proven experience managing social media platforms or communities for a non-branded channel.Undergraduate degree, preferablyin communications, marketing, public relations, or journalismDigitally savvyActive participation in a wide variety of social media activitiesUnderstand popular social networks including design, functionality and usersAffinity and passion for technology and consumer electronics, preferred; experience in blogging about consumer electronic products and gadgets a plusExcellent writing skills and communication skillsAttention to detailMust operate well in a matrix and multi-agency environmentAppreciative of creative productSelf-starterCulturally sensitiveLevel of maturity requiredAn inspiring leader, one that is approachable and very willing to teach and collaborate.High sense of accountability and project ownership    2\n",
       "                         Senior Digital Planner                                                       Publicis Media is one of the four solutions hubs of Publicis Groupe, alongside Publicis Communications, Publicis Sapient, and Publicis Healthcare. It is present in over 100 countries with more than 17,500 employees worldwide. Publicis Media is dedicated to helping its clients navigate the modern media landscape.Job DescriptionAs a Senior Planner,one needs to have in-depth knowledge of operation of Google, Facebook, TikTok ecosystem (with focus on upper, middle funnel) to not only develop efficient media plan but also to drive optimization and efficiencies. Key role is to make media plan, proposal and drive campaign results and effectively manage workflow of internal - external stakeholders.      Result Oriented:Being in the person who is accountable for successfully implementing the strategy, its very important to have passion to push themselves everyday to do better. Needs strong commitment and dedication and be very proactive in managing the plans and driver better results every time which will require good management of Way of Working with client & internal team as well as optimization efforts to land in campaign KPI.Strategic Thinking in Planning & Implementation:As the senior planner one needs to be very informed and share the responsibilities of implementing Strategies aligned with Digital Manager & Account Lead.Adaptable & Agile:This person should make sure he/she is up-to-date with all recent updates on platforms they work on (Google, Facebook, TikTok, etc.). They should be very agile in learning and unlearning.Accuracy:This job is to manage data effectively to fuel the planning as well as reporting timely & appropriately as per client’s requests & planning purposes.Updated: Stay updated with new initiatives of key platforms & local partners or emerging vendors, technologies to break the brands’ challenges faster, better or more efficiently. The innovation is not limited to local ones but also adapting relevant global case studies to local market.\\nQualifications      At least 3+ years of work experiencein a media or digital agency. Ideally, the candidate would have experience in the Vietnam market or another similar growth market. Preferably working experience with Beauty, Cosmetics, Skincare brands/clients.Proven track record of business growth, a very steep learning curve and a high degree of EQ and cultural sensitivity. The candidate should be well read on digital and technology developments and able to personally evangelize change and collaborations.Platforms: Google Adwords and/or FacebookProven track record in managing timely,quality campaign deliveriesDetail orientated, organized,capable of handling workload through timely responseKnows well about analytics,real-time insights (e.g. Google Analytics, Adobe Omniture, Google Trends, etc.)\\nAdditional Information      Fluent in English (spoken andwritten) and willing to interact within a multinational teamProven presentation andcommunication skillsHungry to learn andcurious in nature                                                                                                                                                                                                                                                                                                                                                                                                                                                                 2\n",
       "                         Leo Burnett | Community – Senior Social Executive (Social Outreach focused)  We help grow many of the world's most iconic brands at Leo Burnett. We help grow even more of the world's most talented people. You'll find at Leo Burnett an agency built on ideas and dependent upon the people behind them. A culture that doesn't just respect creativity but cherishes it. And a community where the path you choose is your own, the places you can go limitless. We believe creativity has the power to transform human behavior, and we use ours to help our clients' brands discover their \"human purpose\" and play meaningful, active roles in people's lives.Job DescriptionThe Senior Social Outreach Executive is responsible for managing the partnership relationship with key partners that manage our Client’s social platforms and optimization of its performance. He or she implements an online community strategy to manage the voice of consumers on the non-owned social channels to maximize the awareness and purchase consideration of Samsung’s products throughout the year.Responsible for:      Work with more than 30partners (tech forum and tech opinion leaders)across Technology Industry to enhance the partnership relationship throughout the year for Samsung Mobile business. Most worked on YouTube, Forum, and Tik Tok platforms.In monitoring and participating in social conversations to build client product visibility, support brand awareness, and engagement measured by Social Listening Tool key metrics.Manage VOC (voice of the consumer) and escalate as necessary and appropriate on managed communities monitor conversations and user-generated comments and escalate to internal and client as necessary through campaigns.Monitor, analyze, and report on Social Outreach platform performance and provides always-on consultancy to optimize channel performance to maintain Samsung Mobile's business on a monthly/quarterly/yearly scale.Work closely, coordinate, and effectively integrate with internal team and external team (third-party partners) to ensure optimization for the good result of Social Outreach for Samsung Mobile.Regularly feedback insights gained from social media monitoring to help evolve the social strategy for optimizing Social Outreach performance.Stay on top of industry trends, seeks out and shares information on new channel opportunities to apply to client business needs.Report to Social Outreach Lead, partners with Account team.\\nQualifications      2- years of work experience, preferably in digital and/or social media marketing related to the mobile technology industry. (Tech Forum / Tech Opinion Leader – Influencers)Proven experience managing social media platforms or communities for a non-branded channel.Undergraduate degree, preferably with speciality in communications, marketing, public relations, or journalismDigitally savvyActive participation in a wide variety of social media activitiesUnderstand popular social networks including design, functionality and usersAffinity and passion for technology and consumer electronics, preferred; experience in blogging about consumer electronic products and gadgets a plusExcellent writing skills and communication skillsAttention to detailMust operate well in a matrix and multi-agency environmentAppreciative of creative productSelf-starterCulturally sensitiveLevel of maturity requiredAn inspiring leader, one that is approachable and very willing to teach and collaborate.High sense of accountability and project ownership                       2\n",
       "                                                                                                                                                                                                                                                                                                                                                                                                                                                                                                                                                                                                                                                                                                                                                                                                                                                                                                                                                                                                                                                                                                                                                                                                                                                                                                                                                                                                                                                                                                                                                                                                                                                                                                                                                                                                                                                                                                                                                                                                                                                                                                                                                                                                                                                                                                                                                                                                                                                                                                                                                                                                                                                                                                                                                                                                                                                                                                                                                                                                                                                                                                                                                                                                                                                                                                                                                                                                                                                                                                                                                                                                                                                                                             ..\n",
       "GiaoHangNhanh (GHN)      Product Specialist                                                           Our Product CultureAt GHN, our product culture is the cornerstone of our success. It defines how we work, think, and create. Here are the core pillars that each member of our team embodies and promotes:User-Centric: Every product decision begins and ends with the user in mind. We prioritize user needs and experiences above all, ensuring that we're not just meeting expectations, but exceeding them. Our goal is to solve real problems with intuitive solutions that our customers love.Data-Informed: Data isn't just numbers to us; it's the voice of our customers, the story of our products, and the compass for our journey. We make decisions grounded in data, ensuring that our strategies are supported by facts and insights, not just gut feelings.Balanced Approach to Discovery & Delivery: We find the sweet spot between learning what our users really want and getting those solutions into their hands. By balancing these two, we make sure we're always creating with purpose and making things that truly matter to our users.Dare to Fail: Innovation doesn't come without risk, and we're not afraid to embrace it. 'Daring to fail' is our mantra for pushing boundaries. We encourage bold ideas and provide a safe space to experiment because every failure is a step forward in our quest for excellence.Working Backward: Inspired by Amazon's philosophy, we start with the desired customer outcome and reverse-engineer our path to success. This approach keeps us focused on the end goal and aligns our efforts with the customer's ultimate benefit in mind.Our product culture isn't just about what we do; it's about who we are. We’re looking for team members who resonate with these principles, who are ready to join us in our relentless pursuit of product perfection.Responsibilities:      Start from data insights, customer insights and strategic insights to define and prioritize what we need to do to deliver value and achieve the goalsCollaborate with cross-functional teams to deeply discover the problems, establish objectives with success metrics and propose solutions. As a Product Owner, you play a pivotal role in driving this process.Define user stories, partner with Product Designers to develop wireframes and prototypes for validating the product and refining product requirements.Participate in a scrum team as a Product Owner to oversee product delivery.Continuously measure metrics and explore problems/opportunities to enhance the product's value.\\nRequirements:      Bachelor’s degree in logistics, software development, information systems, or a related field.Strong analytical and problem-solving skills, with the ability to interpret and leverage data to make informed decisions.Strong ownership and growth mindsetExcellent communication and collaboration skills, with the ability to work effectively with cross-functional teams.A user-centric mindset, with a passion for creating products that delight customers.Familiarity with agile methodologies and product management tools.Work experience at a logistics company is preferred.\\nWhy you'll love working here      12 days of annual leave13th-month salary and KPI bonusesMIC InsuranceAnnual health checkup                                                                                                                                                                                                                                                                                  1\n",
       "                         Senior Frontend Developer                                                    Responsibilities      Development and Implementation of cross-platform foundation based on micro frontendIn-depth understanding of UI components & customization, proficient in creating flexible UI for various device screen sizes.Build API features to support frontendEnsure the technical feasibility of UI/UX designs and translate them into high-quality code.Capable of developing features in high quality while adhering to the best practices.Provide simple solutions to complex problems by demonstrating excellent analytical skills.Participate in the full software development lifecycle, including requirement analysis, design, development, testing, deployment, and maintenance.\\nRequirements      Bachelor’s Degree in Information Technology, Computer Science, or equivalentFrom 4+ years in developing frontend using React (JS or Native) with TypescriptFamiliarity with version control systems (e.g., Git) and build tools (e.g., Webpack).Strong proficiency with modern JavaScript frameworks and libraries (e.g., React), including comprehensive knowledge and hands-on experience with micro frontend architecture. (must have)Deep understanding of micro frontend principles and technologies, with the ability to design, implement, and manage complex frontend ecosystems that improve scalability, maintainability, and development efficiency.Familiarity with CSS preprocessors (e.g., SASS) and UI/UX design principles.Experience with mobile-first and adaptive design principles.Excellent problem-solving skills and attention to detail.\\n Nice to have:      Knowing how to work with K8S or cloud services, e.g GCP, AWS... is a big plusKnowing about Web Service, gRPC, and REST, Golang or JavaHave experience in micro-frontend for web apps, cross-platform (Android, iOS) and native apps Android, iOS\\nFeatured benefits include:      Working at Top 3 Logistic Company in Vietnam.100% salary on probation.Receive 13th month salary + Performance bonus + KPI bonus (at least 14th month salary / year).Healthcare Insurance for employees and a periodical health check every year.MacBook Pro is provided.Monthly Happy Hour party.\\nWorking location:Work location: Rivera Park Sài Gòn, 7/28 Thành Thái, Ward 14, Dist 10, HCM.                                                                                                                                                                                                                                                                                                                                                                                                                                                                                                                                                                                                                                                                                                                                                                                                                                                                                                                                                                                                                                                                                                                                                                                                                                                                                      1\n",
       "                         Senior Software Engineer                                                     Responsibilities● Development and implementation of social products include but are not limited to the profile, feed, comment, chat, notification, marketplace ● Build open API features for core social products ● Performance tuning, online incidents troubleshooting, and system refactoring ● Write high-quality, clean, and maintainable code using engineering best practices ● Work in an Agile & collaborative environment involving different stakeholders. Requirements ● 6-8+ years of experience with full lifecycle of project development for Java Applications ● Strong skills in Core Java, server-side Java technologies, and Spring frameworks ● Extensive experience in software design, architecture, development integration ● Solid knowledge of event processing models, parallel programming, multi-threading, enterprise integration pattern, Socket, Web Service, and REST ● Proficient in distributed database, and familiar with at least one NoSQL DB ● Distributed Caching such as Redis ● Good cross-team communication skills The following skills would be nice to have  ● Experience with frameworks such as Netty, Vert.x ● Experience creating React-based UIs ● Experience with big-data technologies such as Apache Kafka, and OLAP ● Knowing how to work with K8S or cloud services, e.g GCP, AWS... is a big plus Featured benefits include: ● Working at Top 3 Logistic Company in Vietnam. ● 100% salary on probation. ● Receive 13th month salary + Performance bonus + KPI bonus (at least 14th month salary / year). ● Healthcare Insurance for employee and a periodical health check every year. ● MacBook Pro is provided. ● Monthly Happy Hour party. Working location: Work location: Rivera Park Sài Gòn, 7/28 Thành Thái, Ward 14, Dist 10, HCM                                                                                                                                                                                                                                                                                                                                                                                                                                                                                                                                                                                                                                                                                                                                                                                                                                                                                                                                                                                                                                                                                                                                                                                                                                                                                                                                                                                                                                                                                                                                                                                                                                                                                                                                                                                    1\n",
       "                         Senior/Lead Data Analyst                                                     Job description       Working closely with Data Platform team to ensure accurate and high-quality data is collected and analyzed on a consistent basis;\\n       Being responsible for defining key business metrics and reports providing meaningful data-driven decisions and process improvement;\\n      Participating in creating product feature and key business/risk metric dashboards by data visualization tools to track product performance and cross-functional business objectives; to monitor & identify abnormal user activities, app usage and fraudulent attempts (e,g., fake account, promotion abuse, misbehaviors from our drivers, etc.);\\n      Performing analysis to understand product performance, user behaviors and pain points to feedback for product/solution/model development. You need to interpret & analyze data (by using statistical techniques together with your domain knowledge) into actionable recommendations.\\n       Working closely with members from Risk Strategy & Ops team, Data Science team, Product team on analyzing and tracking impact & effectiveness of rules/policies/products/solutions (coverage, false-positive, drop-off rate of challenge), propose actionable insights, follow up the efficiency of your recommendations & adapt to different conditions;\\nRequirements      Proven working experience as a data analyst with at least 4-year experience;Ability to think critically, analyze and solve problems with a strong attention to detail;Being able to understand and represent business and user needs, distilling insights to set strong road map that meet short and long-term needs;Excellent organizational and communication skills;Experience in SQL and NoSQL query (e.g., MySQL, MongoDB); master in Python or Excel.Experience in BI tools (e.g., Tableau) and big data computation (I.e., by using computation engine such as Spark) is a plus.Ability to work well in a fast-paced environment;Ability to manage multiple tasks and deadlines;Experience working directly with software engineers and other teams (preferred candidates from e-wallet/e-commerce/technical product) is a plus.\\nFeatured benefits include:      Working at Top 3 Logistic Company in Vietnam.100% salary on probation. Receive 13th month salary + Performance bonus + KPI bonus (at least 14thmonth salary / year).Healthcare Insurance for employees and a periodical health check every year.MacBook Pro is provided.Monthly Happy Hour party.\\nWorking location:Work location: Rivera Park Sài Gòn, 7/28 Thành Thái, Ward 14, Dist 10, HCM.                                                                                                                                                                                                                                                                                                                                                                                                                                                                                                                                                                                                                                                                                                                                                                                                                                                                                                                                                                 1\n",
       "ofi                      Business Manager, Food Industry (Open to Expats)                             We are seeking a Business Manager who will lead employees to ensure productivity efficiency and provide direction on how best to handle different tasks while maintaining customer satisfaction. The ideal candidate will be well-versed in all matters of business. The goal will be to ensure the profitability of business’s activities to drive sustainable development and long-term success.Responsibilities:• Leading current business and developing business opportunity/ ideas that tend to growth and prosperity.• Designing and implementing business plans and strategies to promote the attainment of goals.• Organize and coordinate operations in ways that ensure maximum productivity.• Maintain excellent relationships with our customers, understand their needs and find sales opportunities.• Making sure we are on track for the short term and long-term priorities of the business and achieving the financial targets. Ensure proper risk management with customers, forex and market exposures.• Supervise the work of employees and provide feedback and counsel to improve efficiency and effectiveness.• Maintain relationships with partners/vendors/suppliers.• Ensure that all business activity is conducted in line with company values, policies and ethics codes of conduct.• Undertake any other activity as reasonably requested by management.Qualifications• Bachelor degree in Business Management or relevant field; Masters degree will be a plus.• Proven experience as business manager or relevant role• Must have a minimum of 3-5 years in manufacturing operations within food, beverage, or spices products.• MUST have proven ability to interact with all stakeholders as a team player.• Experience in driving strategic goals for production as well as overseeing daily operational activities to ensure stability and efficiency in all steps delivering consistently meeting customer requirements.• Outstanding communication and interpersonal abilities• Thorough understanding of diverse business processes and strategy development • Good understanding of research methods and data analysis techniques                                                                                                                                                                                                                                                                                                                                                                                                                                                                                                                                                                                                                                                                                                                                                                                                                                                                                                                                                                                                                                                                                                                                                                                                                                                                                                                                                                                                              1\n",
       "Name: count, Length: 922, dtype: int64"
      ]
     },
     "execution_count": 12,
     "metadata": {},
     "output_type": "execute_result"
    }
   ],
   "source": [
    "df.value_counts()"
   ]
  },
  {
   "cell_type": "code",
   "execution_count": 13,
   "metadata": {},
   "outputs": [],
   "source": [
    "df.drop_duplicates(subset=\"About The Job\", inplace=True)"
   ]
  },
  {
   "cell_type": "code",
   "execution_count": 14,
   "metadata": {},
   "outputs": [
    {
     "data": {
      "text/plain": [
       "Company Name           Role                                                      About The Job                                                                                                                                                                                                                                                                                                                                                                                                                                                                                                                                                                                                                                                                                                                                                                                                                                                                                                                                                                                                                                                                                                                                                                                                                                                                                                                                                                                                                                                                                                                                                                                                                                                                                                                                                                                                                                                                                                                                                                                                                                                                                                                                                                                                                                                                                                                                                                                                                                                                                                                                                                                                                                                                                                                                                                                                                                                                                                                                                                                                                                                                                                                                                                                                                                                                                                                                                                                                                                                                                                                                                                                                                                                                                                                                                                                                                                                                                                                                                                                                                                                                                                                                                                                                                                                                                                                                                                                                                                                                                                                                                                                                                                                                                                                                                                                                                                                                                                                                                                                                                                                                          \n",
       "2C2P                   Partnerships Manager                                      Main Duties & Responsibilities      Lead, develop and implement partnerships strategy with card schemes, banks, wallets, BNPL, over-the-counter payments & partners, closely working together to achieve long-term goals and objectives that aligns with and supports our overall business vision for 2C2PManage and own strategically important partnership opportunities, both existing and new, and act as the main point of contact between 2c2p and those partnersWork under Country Head supervision to lead the pricing negotiation and pricing adjustment between the partnership networkUnderstand the competitive landscape and conduct market research to ensure that 2c2p remains a ‘partner-of-choice’Responsible for executing partnership agreements, and managing all related deliverables related to the partnership and the day-to-day execution of account plan activities. Liaise with partners to solve issues, communicate needs and create synergy.Own these relationships end-to-end: from the commercial to the operational, and work closely with a range of stakeholders across 2C2P including Business Development, Operation & Support, Product, Processing, Risk, Finance and Marketing.Analyse current industry trends to identify business opportunities that would generate revenue resources and profitability.\\nRequirements:      At least 5 years in the e-Payment or Banking industry, plus if worked for Payment Gateway or e-Wallet companies before.Deep understanding of the e-Payment and Banking industry.Past business relationships with Card Schemes (Visa / MasterCard / JCB / etc.) is a plus.Past business relationships with international e-payment companies is a plus.Proven track records of Partnership Network built-up and nurtured.Project Management ability is a plus.Negotiation skill is a plus.\\nWe offer an attractive remuneration package, a conducive and satisfying working environment and provide challenging opportunities for life-long learning and skill upgrading.Interested candidates are to submit a comprehensive resume with current and expected salary package to us via LinkedIn.Please note that only shortlisted candidates will be contacted.Please consult our Candidate Privacy Notice to know more about how we collect, use and transfer our candidates’ information: https://2c2p.com/candidate-privacy-notice.By submitting your resume and information, you acknowledge that you have read our privacy policy and consent to receive email and/or other electronic messaging communication from 2C2P.                                                                                                                                                                                                                                                                                                                                                                                                                                                                                                                                                                                                                                                                                                                                                                                                                                                                                                                                                                                                                                                                                                                                                                                                                                                                                                                                                                                                                                                                                                                                                                                                                                                                                                                                                                                                                                                                                                                                                                                                                                                                                                                                                                                                                                                                                                                                                                                                                                                                                        1\n",
       "OPSWAT                 C++ Software Engineer (Middle/Senior/Lead)                OPSWAT is a global cyber security company providing solutions for enterprises since 2002 to identify, detect, and remediate advanced security threats from data and devices coming into and out their networks. Trusted by over 1,000 organizations worldwide and with over 30 anti-malware engines, 100+ data sanitization engines and more than 25 technology integration partners, OPSWAT is a pioneer and leader in data sanitization, vulnerability detection, multi-scanning, device compliance, and cloud access control. The PositionWe are a strong team of young talented, energetic, and ambitious members looking for a senior engineer to thrive and succeed together. Surely, you’ve already gained many experiences along your way, but are you ready to try something else with trendy technologies (Microservices, Kubernetes, Docker, SSO, etc.).In the professional, supportive environment that we’ve been building here at OPSWAT, we believe we can grow fast to do anything, and become a top player in the field. If you are the one who likes solving challenges, and not settling down for anything less, then let’s join us and build great things together! What You Will Be Doing       Partner with Product Management and Business Development team to develop, lead and execute an appropriate strategy for the next generation of technology across different platforms. Take ownership of overall architecture and key components design for the current and future products. Leadership experience and ability to set direction and develop the team. Design, develop, implement and test products using C++ in Windows, macOS and Linux environment. Review design specification / coding. Implement feature with unit testing and functionality testing. Research feasibility of implementations as a proof of concept. Coach engineers by best practices and help them grow. \\nWhat We Need From You       Solid programming skills in C++, with more than 5 years of experience. Solid background and proven experience in Object-oriented programming and system design (architecture, design patterns, reliability and scaling). Knowledge of professional software engineering practices & best practices for the full software development life cycle, including coding standards, code reviews, source control management, build processes, testing, and operations. Good verbal and written communication skills. Must be self-motivated and have a proven ability to work well in a fast-paced team environment. Know what you do not know. \\nIt Would Be Nice If You Had       Bachelor's Degree in Computer Science, or related major. Experience building SDKs and/or REST APIs. Experience as a mentor, tech lead or leading an engineering team. Experience with Git, Bitbucket, Jira, Confluence, TeamCity Experience with Agile / Scrum working environment \\nOPSWAT is an equal opportunity employer. We celebrate diversity and are committed to providing an environment where equal employment opportunities are extended to all employees and applicants, free of discrimination and harassment of any type. All employment decisions are based on individual qualifications, job requirements, and business needs without regard to race, color, religion, age, sex, national origin, disability status, genetics, protected veteran status, sexual orientation, gender identity or expression, or any other category protected by federal, state, or local laws.We do not accept unsolicited resumes for any of our open positions. To submit resumes for our jobs, there must be a recruiting contract approved by our legal team and endorsed by both parties. We are currently not accepting additional 3rd party agencies at this time.                                                                                                                                                                                                                                                                                                                                                                                                                                                                                                                                                                                                                                                                                                                                                                                                                                                                                                                                                                                                                                                                                                                                                                                                                                                                                    1\n",
       "Nord Anglia Education  Library Assistant                                         Job DescriptionPlease refer to this link for details of the Job Description:BVIS HCMC_JD_Secondary Library Assistant.pdf                                                                                                                                                                                                                                                                                                                                                                                                                                                                                                                                                                                                                                                                                                                                                                                                                                                                                                                                                                                                                                                                                                                                                                                                                                                                                                                                                                                                                                                                                                                                                                                                                                                                                                                                                                                                                                                                                                                                                                                                                                                                                                                                                                                                                                                                                                                                                                                                                                                                                                                                                                                                                                                                                                                                                                                                                                                                                                                                                                                                                                                                                                                                                                                                                                                                                                                                                                                                                                                                                                                                                                                                                                                                                                                                                                                                                                                                                                                                                                                                                                                                                                                                                                                                                                                                                                                                                                                                                                                                                                                                                                                                                                                                                                                                                                                                                                                                                                                                                                   1\n",
       "Noventiq               Account Manager                                           DescriptionNoventiq is hiring!Noventiq’s story is one of change. We grew, expanded, and adapted, learning more at each step. Now effecting change is at the heart of everything we do. And that doesn't just apply to our customers, it’s how we feel about everyone who works with us.Noventiq (the brand name of Cyprus-registered Softline Holding plc) is a leading global solutions and services provider in digital transformation and cybersecurity, headquartered and listed in London. The company enables, facilitates and accelerates digital transformation for its customers’ businesses, connecting 75,000+ organizations from all sectors with hundreds of best-in-class IT vendors, alongside its own services and solutions.With a turnover of US$ 1.1 billion in the fiscal year of 2021, Noventiq is currently one of the fastest growing companies in the sector. In October 2021, company \"Softline Holding plc\" got its primary listing on the London Stock Exchange (LSE:SFTL). Noventiq’s growth is underpinned by its three-dimensional strategy to expand its geography, portfolio and sales channels. The strategy is supported by Noventiq's active approach to M&As, enabling the company to take advantage of the ongoing consolidation in the industry. Noventiq's 3900 employees work in almost 60 countries throughout Asia, Latin America, Eastern Europe and Africa—markets with significant growth potential.We’re looking for Account Manager to bring your talent to Noventiq Vietnam. You’ll be a part of our Sales team.Job overview: Generate sales and advise clients, analyzing their computer needs and their needs for IT consulting services, in order to offer adequate sales that help to guarantee commercial plans and results desired by Noventiq.What You’ll Do      Accomplishes subsidiary objectives by establishing plans, budgets, and results measurements; allocating resources; reviewing progress; making mid-course corrections.Sells and guides clients, advising and detecting their computer needs, in order to adapt offers and ensure achievement of Noventiq sales objectives, and compliance with requests and demands from consumers/clients.Maintains contact with organizations and companies to anticipate their needs and/or participate in bidding processes to ensure continuous business and partnership creation.Closes sales by applying techniques and methods set by Noventiq to maximize results while operating within the scope of negotiations defined by the company.Analyzes the market and participates actively in marketing actions to contribute to a better computer company position and ensure the target market share.Follows up the commercial and administrative processes that are involved in the billing process and in the delivery of traded products and services to ensure fulfillment of the assumed commitments and their collection according to the defined conditions.Sells and guides clients, analyzing, advising, and detecting their computer needs, in order to adapt offers and ensure achievement of Noventiq sales objectives, and complying with requests and demands from consumers/clients.Develops aftersales service actions by a periodic follow-up and resolution of incidents under defined methods to ensure client satisfaction and loyalty, and discovery of new commercial opportunities.\\nAbout You      Knowledge on technology licensing and franchising. Sales experience in the IT industry more 3 years +Experience in delivering sales quota GP more 200K per annum. Understanding of IT infrastructure of an average customer Experience with bidding process and complete sales cycle process (pre-sales, sales and aftersales). Experience with vendors AMs on how to get a full support and a proper pricing. Deep knowledge of cloud trend and multi-cloud: awareness on the difference between in-house infrastructure and cloud Good communication skills at CIO and CxO/AM Being a subject matter expert for CIO and CxO/AMs without engaging other experts 2-3 lines down\\nWhat we offer      Working time: Mond-Fri, flexible working time, WFH is appliable Attractive salary with 100% salary during probationFull-pay insurance, Compliance fully to Vietnam Labor codeAttractive Bonus, & Allowances for mobile, transportation, parkingOpportunities to work with global colleagues from different culturesPremium Healthcare insurance for employee and family (spouse/children)Annual Health check-up External and Internal Training Opportunities & English class are sponsored by companyBirthday paid day-off & Birthday gift Recognition program, Referral programWorking device provided or reimbursement on personal deviceOther activities: annual company trip, year-end dinner, exciting engagement events, Coaching opportunities, etc.Annual Salary Review & Promotion \\nDon’t forget to include your CV and cover letter. We receive a lot of applications, but we try to notice each of our potential candidates.    1\n",
       "                       Corporate Counsel                                         DescriptionNoventiq is hiring!If you want to be part of global organization (GPTW of you’ve it in your country) where your ideas are heard and innovation and collaborative spaces are fundamental pillars, we are here for you.We grew, expanded, and adapted, learning more at each step. Now effecting change is at the heart of everything we do. And that doesn't just apply to our customers, it’s how we feel about everyone who works with us.Our priority is to make sure that the people who work with us have the space to create ideas, the confidence to share them, and the resources and support to take them through to reality.About 30 years we help companies make the right changes to ensure their success in digital transformation by providing end-to-end technology solutions including infrastructure, cloud, virtualization, collaboration, security, mobility, and data center. We have a quite broad geographical presence – more than 55 countries across 95 cities. Besides recently we have had IPO experience so you could easily find our results – for instance, our revenue is 2.5 billion now.We’re looking for Corporate Counsel to bring your talent to Noventiq Vietnam. You’ll be a part of our Legal & Compliance team.What You’ll Do      Reports to the Head of Legal (APAC) and serve as focal point of contact on all legal and compliance matters in Vietnam.Review, draft and advise on all types of commercial agreements, legal documents and M&A documents. Example: experience in procurement contracts, JV contracts, business and finance negotiation Provide strategic legal research and advice to stakeholders on all legal and general compliance matters inclusive of HR and TaxManaging the appointment and progress of appointed external lawyer for litigation cases and/or other corporate matters.Implementing legal and/or compliance processes/policies introduced by Parent Company that befits Vietnam’s business culture.Custodian and proper management of executed contracts with Vendors, customers and/or other 3rd parties.Assist in other legal matters within APAC region, as and when requested.Any other matters that is relevant to the position of Corporate Counsel.\\nAbout You      Post Qualified Experience: 5+ yearsDegree in Law from a recognized university Qualified lawyer in Vietnam will be an added advantageFluent in Vietnamese and English, other languages within ASEAN region would be an added advantage.Good understanding of Vietnamese legal, compliance and business culture Must Have experience:      Drafting complex agreementsNegotiation skillsLitigation management\\nGood to have experience:      Tax and Finance knowledgeCorporate management experience\\n\\nWhat We Offer      Working time: Mond-Fri, flexible working time, WFH is appliableAttractive Bonus, & Allowances for mobile phoneExternal and Internal Training Opportunities & English classes are sponsored by companyBirthday paid day-off & Birthday giftRecognition program, Referral programWorking device provided or reimbursement on personal deviceOther activities: annual company trip, year-end dinner, exciting engagement events, Coaching opportunities, etc.Annual Salary Review & Promotion\\nDon’t forget to include your CV and cover letter. We receive a lot of applications, but we try to notice each of our potential candidates.                                                                                                                                                                                                                                                                                                                                                                                                                                                                                                                                                                                                                                                                                                                                                                                                                                                                                                                                                                                                                                                                                                                                                                                                                                                                                                                                                                                                                                                                                                                                                                                                                                                     1\n",
       "                                                                                                                                                                                                                                                                                                                                                                                                                                                                                                                                                                                                                                                                                                                                                                                                                                                                                                                                                                                                                                                                                                                                                                                                                                                                                                                                                                                                                                                                                                                                                                                                                                                                                                                                                                                                                                                                                                                                                                                                                                                                                                                                                                                                                                                                                                                                                                                                                                                                                                                                                                                                                                                                                                                                                                                                                                                                                                                                                                                                                                                                                                                                                                                                                                                                                                                                                                                                                                                                                                                                                                                                                                                                                                                                                                                                                                                                                                                                                                                                                                                                                                                                                                                                                                                                                                                                                                                                                                                                                                                                                                                                                                                                                                                                                                                                                                                                                                                                                                                                                                                                                                                                                                           ..\n",
       "Geniebook              Performance Marketing Specialist                          Loved by over 220,000 users, Geniebook is Singapore’s largest online learning platform for English, Mathematics and Science (EMS) syllabi, with Chinese being our newest subject offering.From AI-personalised worksheets to live classes and teacher chats, we are a powerful suite of complementary learning products designed to help students accelerate their academic performance.We’re looking out for amazing global talents to scale Geniebook exponentially across Southeast Asia, and we have many exciting roles opening up across a wide range of functions.So join us today to inspire a new generation of learners and help even more students learn smarter and do better!Responsibilities:- Develop and execute a comprehensive digital marketing strategy to generate inbound demand for our products, incorporating both organic (SEO) and paid channels (SEM, Display, Social, Programmatic).- Coordinate marketing activities to optimize lead generation and enhance brand awareness.- Collaborate cross-functionally with Product, Sales, Customer Support, and other teams to implement projects that support marketing goals.- Analyze digital marketing performance using analytics tools, report insights, and recommend optimization strategies to the team.- Manage digital advertising budgets efficiently to maximize ROI.- Contribute to the overall digital marketing strategy through support in planning and tactical execution.- Research market trends, audience preferences, competitors, and the consumer journey to improve campaign performance and drive conversions.- Stay updated on digital marketing innovations, including tools, platforms, and trends, and share actionable insights with the team.Job requirements- Minimum of a Diploma or professional certification in Marketing, Digital Marketing, or Mass Communication.- At least 3 years in a digital marketing role, with a portfolio demonstrating successful campaign management and outcomes.- Strong written and communication skills.                                                                                                                                                                                                                                                                                                                                                                                                                                                                                                                                                                                                                                                                                                                                                                                                                                                                                                                                                                                                                                                                                                                                                                                                                                                                                                                                                                                                                                                                                                                                                                                                                                                                                                                                                                                                                                                                                                                                                                                                                                                                                                                                                                                                                                                                                                                                                                                                                                                                                                                                                                                                                                                                                                                                                                                                                                                                                                                                                                                                                                      1\n",
       "Genpact                Human Resources Operations Specialist - Relocation to KL  With a startup spirit and 125,000 + curious and courageous minds, we have the expertise to go deep with the world’s biggest brands—and we have fun doing it! We dream in digital, dare in reality, and reinvent the ways companies work to make an impact far bigger than just our bottom line. We’re harnessing the power of technology and humanity to create meaningful transformation that moves us forward in our pursuit of a world that works better for people. Now, we’re calling upon the thinkers and doers, those with a natural curiosity and a hunger to keep learning, keep growing. People who thrive on fearlessly experimenting, seizing opportunities, and pushing boundaries to turn our vision into reality. And as you help us create a better world, we will help you build your own intellectual firepower.  Welcome to the relentless pursuit of better.Inviting applications for the role of Human Resources Operations (HRO) – Relocation to KLIn this role, you will manage the administrative and transactional aspects of HR functions within an organization. Managing day-to-day activities related to employees, such as payroll, benefits administration, record-keeping, compliance, and other operational tasks.Responsibilities      Performing administrative activities across different HR processes like Talent Acquisition, Employee Lifecycle management, Employee support centre, Talent development, Compensation & Benefits processesEnsure adherence to SLA’s as agreed for the respective processes.Work closely with quality team in identification and implementation of improvement ideas.Monitor and resolve day to day issues & escalations, if any, by co-ordinating with different process owners & stakeholdersWork closely with the overall process lead to ensure that any process changes / updates are communicated timely to the team members in KL.Provide coaching and mentoring to the team members and manage client stakeholders.Manage team of recruitersSupport team with complex cases and communication/collaboration with retained teams.Support team with load/volume distribution during peak/high volumes. Manage and support reporting and reconciliation for benefits and compensation.Responsible for generating HR reports and provide analytics to required stakeholders.Prepare and publish dashboards in the required established templates.Generate analytics and insights with respect to the performance dashboards.Gather and discuss performance feedback with key stakeholders - address and solve any performance/ process issue.Manage weekly/monthly governance with Key stakeholders.\\nQualifications we seek in you!Minimum qualifications      Bachelor’s or equivalent education3 - 5 years of experience in leading HR shared services and driving process transformationDemonstrated competence in managing various HR functional areas like Talent Acquisition, Employee Lifecycle management, Employee support center, Talent development, Compensation & Benefits processes.Comfortable and thrive in an ambiguous, high growth, fast paced environment.Outstanding interpersonal and communication skillsDemonstrated credibility and integrity in communications to ensure information flows both upward and downward.Vietnamese & basic English is required.\\nPreferred Qualifications      Experience in Workday or similar HCM.External HR Certifications from recognized institutes is an advantage.Ability to thrive in an unstructured environment and work independently.Ability to manage multiple complex issues and prioritize projects concurrently.Ability to work at all levels of the HR “stack” - Strategic, operational, and tactical.\\nGenpact is an Equal Opportunity Employer and considers applicants for all positions without regard to race, color, religion or belief, sex, age, national origin, citizenship status, marital status, military/veteran status, genetic information, sexual orientation, gender identity, physical or mental disability or any other characteristic protected by applicable laws. Genpact is committed to creating a dynamic work environment that values diversity and inclusion, respect and integrity, customer focus, and innovation. For more information, visit www.genpact.com . Follow us on Twitter, Facebook, LinkedIn, and YouTube.Furthermore, please do note that Genpact does not charge fees to process job applications and applicants are not required to pay to participate in our hiring process in any other way. Examples of such scams include purchasing a 'starter kit,' paying to apply, or purchasing equipment or training.                                                                                                                                                                                                                                                                                                                                                                         1\n",
       "GiaoHangNhanh (GHN)    Area Manager                                              Area Manager - GHN CAREER FAST TRACK PROGRAM 2024About the job1. Key Responsibilities      Business Management (40%):\\n + Develop and execute strategic plans to achieve regional growth targets. + Analyze market trends and identify new business opportunities. + Manage P&L, ensuring profitability and cost-efficiency.      Operation Management (25%):\\n + Oversee daily operations, ensuring smooth and efficient processes. + Optimize warehouse and delivery operations for maximum productivity. + Implement innovative solutions to address logistical challenges.      Personnel Management (20%):\\n + Lead, motivate, and develop a high-performing team. + Foster a positive and collaborative work environment. + Conduct performance reviews and provide constructive feedback.      Cost, Fixed Assets, Raw Materials, and COD Management (15%):\\n + Monitor and control costs, identifying areas for optimization. + Manage fixed assets and inventory levels. + Implement effective strategies for cash-on-delivery (COD) management.2. Qualifications      Location: Ho Chi Minh City Education: Bachelor’s degree or higher in Logistics, Business Administration, Economics, or a related field.Experience:\\n + Over 2 years of experience managing a team of 30 or more employees + 2 – 3 years of experience in managing BD, Sales, and Operations at the level of Supervisor, Manager, or higher in companies in the Ecommerce, Express, Logistics, Retail, and related industries + Over 2 years of sales experience      Skills:\\n + Strategic Thinking: Ability to develop and execute long-term plans. + Analytical Skills: Proficient in data analysis and decision-making. + Leadership: Ability to inspire and motivate teams. + Communication: Excellent verbal and written communication skills. + Technical Proficiency: Comfortable with e-logistics systems and technology.      Traits:\\n + Forward-Thinking: Anticipates trends and embraces innovation. + Ambitious: Consistently sets high goals, relentlessly strives to achieve outstanding results, and embraces challenges head-on. + Service-Driven: Committed to delivering exceptional customer experiences. + Tenacious: Persistent and resilient under pressure3. The GHN CAREER FAST TRACK PROGRAM 2024 offers you:      Fast-track your career: Accelerate your path to a Senior Management role within 15 months.Unleash your potential: Develop your potential and competence through our well-designed & high-investment development program.Thrive in a high-performance culture: Empower you to perform in a high-performing team focused on achieving ambitious goals, where your F.A.S.T. will directly impact customer success and drive exceptional results. \\nVisit the GHN careers page now to learn more and apply: https://ghn-careers.com/📌 Registration closed on 20 June 2024                                                                                                                                                                                                                                                                                                                                                                                                                                                                                                                                                                                                                                                                                                                                                                                                                                                                                                                                                                                                                                                                                                                                                                                                                                                                                                                                                                                                                                                                                                                                                                                                                                                                                                                                                                                                                                                                                                                                                                                                                                                                                                                                                                                         1\n",
       "                       Product Specialist                                        Our Product CultureAt GHN, our product culture is the cornerstone of our success. It defines how we work, think, and create. Here are the core pillars that each member of our team embodies and promotes:User-Centric: Every product decision begins and ends with the user in mind. We prioritize user needs and experiences above all, ensuring that we're not just meeting expectations, but exceeding them. Our goal is to solve real problems with intuitive solutions that our customers love.Data-Informed: Data isn't just numbers to us; it's the voice of our customers, the story of our products, and the compass for our journey. We make decisions grounded in data, ensuring that our strategies are supported by facts and insights, not just gut feelings.Balanced Approach to Discovery & Delivery: We find the sweet spot between learning what our users really want and getting those solutions into their hands. By balancing these two, we make sure we're always creating with purpose and making things that truly matter to our users.Dare to Fail: Innovation doesn't come without risk, and we're not afraid to embrace it. 'Daring to fail' is our mantra for pushing boundaries. We encourage bold ideas and provide a safe space to experiment because every failure is a step forward in our quest for excellence.Working Backward: Inspired by Amazon's philosophy, we start with the desired customer outcome and reverse-engineer our path to success. This approach keeps us focused on the end goal and aligns our efforts with the customer's ultimate benefit in mind.Our product culture isn't just about what we do; it's about who we are. We’re looking for team members who resonate with these principles, who are ready to join us in our relentless pursuit of product perfection.Responsibilities:      Start from data insights, customer insights and strategic insights to define and prioritize what we need to do to deliver value and achieve the goalsCollaborate with cross-functional teams to deeply discover the problems, establish objectives with success metrics and propose solutions. As a Product Owner, you play a pivotal role in driving this process.Define user stories, partner with Product Designers to develop wireframes and prototypes for validating the product and refining product requirements.Participate in a scrum team as a Product Owner to oversee product delivery.Continuously measure metrics and explore problems/opportunities to enhance the product's value.\\nRequirements:      Bachelor’s degree in logistics, software development, information systems, or a related field.Strong analytical and problem-solving skills, with the ability to interpret and leverage data to make informed decisions.Strong ownership and growth mindsetExcellent communication and collaboration skills, with the ability to work effectively with cross-functional teams.A user-centric mindset, with a passion for creating products that delight customers.Familiarity with agile methodologies and product management tools.Work experience at a logistics company is preferred.\\nWhy you'll love working here      12 days of annual leave13th-month salary and KPI bonusesMIC InsuranceAnnual health checkup                                                                                                                                                                                                                                                                                                                                                                                                                                                                                                                                                                                                                                                                                                                                                                                                                                                                                                                                                                                                                                                                                                                                                                                                                                                                                                                                                                                                                                                                                                                                                                                                                                                                                                                                                                                     1\n",
       "ofi                    Business Manager, Food Industry (Open to Expats)          We are seeking a Business Manager who will lead employees to ensure productivity efficiency and provide direction on how best to handle different tasks while maintaining customer satisfaction. The ideal candidate will be well-versed in all matters of business. The goal will be to ensure the profitability of business’s activities to drive sustainable development and long-term success.Responsibilities:• Leading current business and developing business opportunity/ ideas that tend to growth and prosperity.• Designing and implementing business plans and strategies to promote the attainment of goals.• Organize and coordinate operations in ways that ensure maximum productivity.• Maintain excellent relationships with our customers, understand their needs and find sales opportunities.• Making sure we are on track for the short term and long-term priorities of the business and achieving the financial targets. Ensure proper risk management with customers, forex and market exposures.• Supervise the work of employees and provide feedback and counsel to improve efficiency and effectiveness.• Maintain relationships with partners/vendors/suppliers.• Ensure that all business activity is conducted in line with company values, policies and ethics codes of conduct.• Undertake any other activity as reasonably requested by management.Qualifications• Bachelor degree in Business Management or relevant field; Masters degree will be a plus.• Proven experience as business manager or relevant role• Must have a minimum of 3-5 years in manufacturing operations within food, beverage, or spices products.• MUST have proven ability to interact with all stakeholders as a team player.• Experience in driving strategic goals for production as well as overseeing daily operational activities to ensure stability and efficiency in all steps delivering consistently meeting customer requirements.• Outstanding communication and interpersonal abilities• Thorough understanding of diverse business processes and strategy development • Good understanding of research methods and data analysis techniques                                                                                                                                                                                                                                                                                                                                                                                                                                                                                                                                                                                                                                                                                                                                                                                                                                                                                                                                                                                                                                                                                                                                                                                                                                                                                                                                                                                                                                                                                                                                                                                                                                                                                                                                                                                                                                                                                                                                                                                                                                                                                                                                                                                                                                                                                                                                                                                                                                                                                                                                                                                                                                                                                                                                                                                                                                                                                                                 1\n",
       "Name: count, Length: 885, dtype: int64"
      ]
     },
     "execution_count": 14,
     "metadata": {},
     "output_type": "execute_result"
    }
   ],
   "source": [
    "df.value_counts()"
   ]
  },
  {
   "cell_type": "code",
   "execution_count": 15,
   "metadata": {},
   "outputs": [
    {
     "data": {
      "text/plain": [
       "Company Name     0\n",
       "Role             0\n",
       "About The Job    0\n",
       "dtype: int64"
      ]
     },
     "execution_count": 15,
     "metadata": {},
     "output_type": "execute_result"
    }
   ],
   "source": [
    "df.isnull().sum()"
   ]
  },
  {
   "cell_type": "markdown",
   "metadata": {},
   "source": [
    "# Translate the Vietnamese text to english text"
   ]
  },
  {
   "cell_type": "code",
   "execution_count": 16,
   "metadata": {},
   "outputs": [
    {
     "name": "stderr",
     "output_type": "stream",
     "text": [
      "  7%|▋         | 66/885 [00:02<01:00, 13.61it/s]"
     ]
    },
    {
     "name": "stdout",
     "output_type": "stream",
     "text": [
      "Translation error: the JSON object must be str, bytes or bytearray, not NoneType\n"
     ]
    },
    {
     "name": "stderr",
     "output_type": "stream",
     "text": [
      " 45%|████▍     | 398/885 [00:25<00:28, 17.00it/s]"
     ]
    },
    {
     "name": "stdout",
     "output_type": "stream",
     "text": [
      "Translation error: the JSON object must be str, bytes or bytearray, not NoneType\n"
     ]
    },
    {
     "name": "stderr",
     "output_type": "stream",
     "text": [
      " 51%|█████     | 453/885 [00:28<00:22, 19.49it/s]"
     ]
    },
    {
     "name": "stdout",
     "output_type": "stream",
     "text": [
      "Translation error: the JSON object must be str, bytes or bytearray, not NoneType\n"
     ]
    },
    {
     "name": "stderr",
     "output_type": "stream",
     "text": [
      "100%|██████████| 885/885 [00:50<00:00, 17.56it/s]\n"
     ]
    }
   ],
   "source": [
    "tqdm.pandas()\n",
    "df[\"About The Job\"] = df[\"About The Job\"].progress_apply(translate_text)"
   ]
  },
  {
   "cell_type": "code",
   "execution_count": 17,
   "metadata": {},
   "outputs": [],
   "source": [
    "df[\"About The Job\"] = df[\"About The Job\"].apply(clean_text)"
   ]
  },
  {
   "cell_type": "code",
   "execution_count": 18,
   "metadata": {},
   "outputs": [
    {
     "data": {
      "text/plain": [
       "(885, 3)"
      ]
     },
     "execution_count": 18,
     "metadata": {},
     "output_type": "execute_result"
    }
   ],
   "source": [
    "df.shape"
   ]
  },
  {
   "cell_type": "markdown",
   "metadata": {},
   "source": [
    "# Lower the text"
   ]
  },
  {
   "cell_type": "code",
   "execution_count": 19,
   "metadata": {},
   "outputs": [],
   "source": [
    "df['About The Job'] = df['About The Job'].apply(lambda x: x.lower() if isinstance(x, str) else x)"
   ]
  },
  {
   "cell_type": "markdown",
   "metadata": {},
   "source": [
    "# Tokenizer"
   ]
  },
  {
   "cell_type": "code",
   "execution_count": 20,
   "metadata": {},
   "outputs": [
    {
     "name": "stderr",
     "output_type": "stream",
     "text": [
      "100%|██████████| 885/885 [00:02<00:00, 334.12it/s]\n"
     ]
    }
   ],
   "source": [
    "tokens = [word_tokenize(c) for c in tqdm(df[\"About The Job\"])]"
   ]
  },
  {
   "cell_type": "code",
   "execution_count": 21,
   "metadata": {},
   "outputs": [
    {
     "data": {
      "text/plain": [
       "885"
      ]
     },
     "execution_count": 21,
     "metadata": {},
     "output_type": "execute_result"
    }
   ],
   "source": [
    "len(tokens)"
   ]
  },
  {
   "cell_type": "markdown",
   "metadata": {},
   "source": [
    "# Remove stopword"
   ]
  },
  {
   "cell_type": "code",
   "execution_count": 22,
   "metadata": {},
   "outputs": [],
   "source": [
    "sw = stopwords.words(\"english\")\n",
    "tokens = [[word for word in t if word not in sw] for t in tokens]"
   ]
  },
  {
   "cell_type": "code",
   "execution_count": 23,
   "metadata": {},
   "outputs": [
    {
     "data": {
      "text/plain": [
       "885"
      ]
     },
     "execution_count": 23,
     "metadata": {},
     "output_type": "execute_result"
    }
   ],
   "source": [
    "len(tokens)"
   ]
  },
  {
   "cell_type": "markdown",
   "metadata": {},
   "source": [
    "# Remove punctation"
   ]
  },
  {
   "cell_type": "code",
   "execution_count": 24,
   "metadata": {},
   "outputs": [
    {
     "name": "stderr",
     "output_type": "stream",
     "text": [
      "100%|██████████| 885/885 [00:00<00:00, 1784.39it/s]\n"
     ]
    }
   ],
   "source": [
    "tokenizer = RegexpTokenizer(r'\\w+')\n",
    "tokens = [[\" \".join(tokenizer.tokenize(word)) for word in t \n",
    "           if len(tokenizer.tokenize(word))>0] for t in tqdm(tokens)]"
   ]
  },
  {
   "cell_type": "code",
   "execution_count": 25,
   "metadata": {},
   "outputs": [
    {
     "data": {
      "text/plain": [
       "885"
      ]
     },
     "execution_count": 25,
     "metadata": {},
     "output_type": "execute_result"
    }
   ],
   "source": [
    "len(tokens)"
   ]
  },
  {
   "cell_type": "markdown",
   "metadata": {},
   "source": [
    "# Join the token become the text"
   ]
  },
  {
   "cell_type": "code",
   "execution_count": 26,
   "metadata": {},
   "outputs": [],
   "source": [
    "df[\"About The Job\"] = tokens"
   ]
  },
  {
   "cell_type": "code",
   "execution_count": 27,
   "metadata": {},
   "outputs": [],
   "source": [
    "df[\"About The Job\"] = [' '.join(token) for token in df[\"About The Job\"]]"
   ]
  },
  {
   "cell_type": "code",
   "execution_count": 28,
   "metadata": {},
   "outputs": [
    {
     "name": "stderr",
     "output_type": "stream",
     "text": [
      "100%|██████████| 885/885 [00:00<00:00, 885.94it/s] "
     ]
    },
    {
     "name": "stdout",
     "output_type": "stream",
     "text": [
      "Total number of tokens in the 'About The Job' column: 265006\n"
     ]
    },
    {
     "name": "stderr",
     "output_type": "stream",
     "text": [
      "\n"
     ]
    }
   ],
   "source": [
    "# # Khởi tạo biến đếm token\n",
    "# total_tokens = 0\n",
    "\n",
    "# # Lặp qua từng cột trong DataFrame\n",
    "# for col in tqdm(df.columns):\n",
    "#     # Lặp qua từng dòng văn bản trong cột và cộng số lượng token vào biến đếm\n",
    "#     for text in df[col]:\n",
    "#         if isinstance(text, str):  # Chỉ xử lý nếu dữ liệu là chuỗi\n",
    "#             tokens = word_tokenize(text)  # Tokenize văn bản\n",
    "#             total_tokens += len(tokens)  # Cộng số lượng token vào biến đếm\n",
    "\n",
    "# # In ra tổng số token\n",
    "# print(f\"Tổng số token trong file CSV là: {total_tokens}\")\n",
    "total_tokens = 0\n",
    "\n",
    "# Iterate over the \"About The Job\" column\n",
    "for text in tqdm(df['About The Job']):\n",
    "    if isinstance(text, str):  # Process only if the data is a string\n",
    "        tokens = word_tokenize(text)  # Tokenize the text\n",
    "        total_tokens += len(tokens)  # Add the number of tokens to the counter\n",
    "\n",
    "# Print the total number of tokens\n",
    "print(f\"Total number of tokens in the 'About The Job' column: {total_tokens}\")"
   ]
  },
  {
   "cell_type": "markdown",
   "metadata": {},
   "source": [
    "# Main"
   ]
  },
  {
   "cell_type": "code",
   "execution_count": 29,
   "metadata": {},
   "outputs": [
    {
     "name": "stderr",
     "output_type": "stream",
     "text": [
      "100%|██████████| 885/885 [01:07<00:00, 13.16it/s]\n"
     ]
    }
   ],
   "source": [
    "# Load spaCy model\n",
    "nlp = spacy.load('en_core_web_sm')\n",
    "\n",
    "if __name__ == '__main__':\n",
    "    # Initialize matcher\n",
    "    matcher = init_parser_func(nlp, SKILL_FILE_PATH, file_type=\"excel\")\n",
    "    \n",
    "    # Initialize an empty list to collect data\n",
    "    data_list = []\n",
    "    \n",
    "    # Iterate through each row in the DataFrame\n",
    "    for c, (index, row) in enumerate(tqdm(df.iterrows(), total=len(df))):\n",
    "        text = row['About The Job']\n",
    "        role = row['Role']\n",
    "        application_subject = row['Company Name']\n",
    "        data = create_profile(nlp, matcher, text, role, application_subject)\n",
    "        data_list.append(data)\n",
    "\n",
    "    # Concatenate all collected data into final_database\n",
    "    final_database = pd.concat(data_list, ignore_index=True)\n",
    "    \n",
    "    # Saving the database\n",
    "    final_database.to_csv('./output/Data.csv', index=False)\n",
    "\n",
    "    other_df = pd.DataFrame(final_database[['Company/Candidate Name', 'Skill', 'Sub-skill']])\n",
    "    other_df.to_csv('./output/Skills.csv', index=False)\n"
   ]
  },
  {
   "cell_type": "code",
   "execution_count": 30,
   "metadata": {},
   "outputs": [],
   "source": [
    "# plot_df(final_database)"
   ]
  },
  {
   "cell_type": "markdown",
   "metadata": {},
   "source": [
    "# Group by Company name and Role"
   ]
  },
  {
   "cell_type": "code",
   "execution_count": 31,
   "metadata": {},
   "outputs": [],
   "source": [
    "df_data = pd.read_csv(\"./output/Data.csv\")\n",
    "grouped_df = df_data.groupby(['Company/Candidate Name','Role']).agg({\n",
    "    'Sub-skill': lambda x: ', '.join(x),\n",
    "    'Count': 'sum'\n",
    "}).reset_index()\n",
    "\n",
    "# Print the grouped DataFrame\n",
    "grouped_df.to_csv(\"./output/Filtered_Skill.csv\")"
   ]
  },
  {
   "cell_type": "code",
   "execution_count": 42,
   "metadata": {},
   "outputs": [
    {
     "name": "stdout",
     "output_type": "stream",
     "text": [
      "abeam consulting vietnamestablished june abeam vietnam consultants including japanese vietnamese experts digital transformation consulting\n",
      "consolidated abeam consulting ltd japan abeam group people abeam consulting present countries offices global consulting technology outsourcing\n",
      "services group reported global revenues jpy billion people expertise broad set industries service lines working clients organization team together\n",
      "drive tangible results providing superb services every phase project learn us https www abeam com vn enjob overviewthis role mainly focus business\n",
      "development consulting services korean companies vietnam main responsibilities develop implement strategic plans expand client s network korean\n",
      "companies vietnamidentify new business opportunities analyzing market trends customer needs competitive landscape establish maintain strong\n",
      "relationships key clients industry stakeholders business partners vietnam work closely bod align strategies ensure consistent brand messaging lead\n",
      "cross functional teams achieve business targets including sales marketing product development teams negotiate contracts close agreements maximize\n",
      "profits maintaining companys standards quality compliance prepare regular reports business development activities market analysis sales forecasts\n",
      "senior management review represent company various networking events trade shows business meetings promote products services stay up to date new\n",
      "product launches ensure sales team board market products effectively address customer feedback concerns promptly ensuring high levels customer\n",
      "satisfaction requirement bachelors degree business administration marketing related field proven working experience least years bb business\n",
      "development sales professional consulting firms technology companiesstrong network bb korean clients vietnamfluent korean english full skills strong\n",
      "understanding korean market business culture consumer behavior excellent interpersonal communication skills ability engage effectively diverse\n",
      "stakeholders demonstrated ability drive sales process plan close strong analytical skills ability analyze data understand trends develop strategic\n",
      "recommendations ability work independently manage multiple projects meet deadlines fast paced environment willingness travel business trips offer\n",
      "professional working environment develop career enhance skillset hi class consulting firmflexible working style optional on site hybridbonus twice per\n",
      "yearpremium healthcare insurance individuals family members annual medical check upmonthly working allowance overtime extra salary extra money special\n",
      "events company trip professional training programs domestics overseas employee due high number applicants regret inform shortlisted candidates\n",
      "contacted\n"
     ]
    }
   ],
   "source": [
    "# filtered_df = df[df[\"Company Name\"] == \"Jabil\" & df[\"Role\"]==\"Financial Analyst II\"]\n",
    "filtered_df = df[(df[\"Company Name\"] == \"ABeam Consulting Vietnam\") & (df[\"Role\"] == \"Business Development Manager (Korean)\")]\n",
    "filtered_df\n",
    "# Print each job description for the filtered rows\n",
    "\n",
    "for job_description in filtered_df[\"About The Job\"]:\n",
    "    print(wrap_text(job_description))"
   ]
  },
  {
   "cell_type": "code",
   "execution_count": 33,
   "metadata": {},
   "outputs": [
    {
     "data": {
      "text/plain": [
       "Company Name\n",
       "KTI Talent Indicator                 30\n",
       "Publicis Groupe Vietnam              20\n",
       "RMIT University                      17\n",
       "AnyMind Group                        17\n",
       "DKSH                                 13\n",
       "                                     ..\n",
       "Terumo Asia Pacific                   1\n",
       "Funding Societies | Modalku Group     1\n",
       "Astellas Pharma                       1\n",
       "Sony Music Entertainment              1\n",
       "Carousell Group                       1\n",
       "Name: count, Length: 409, dtype: int64"
      ]
     },
     "execution_count": 33,
     "metadata": {},
     "output_type": "execute_result"
    }
   ],
   "source": [
    "df[\"Company Name\"].value_counts()"
   ]
  },
  {
   "cell_type": "markdown",
   "metadata": {},
   "source": [
    "# Dataframe Grouped"
   ]
  },
  {
   "cell_type": "code",
   "execution_count": 34,
   "metadata": {},
   "outputs": [
    {
     "data": {
      "text/html": [
       "<div>\n",
       "<style scoped>\n",
       "    .dataframe tbody tr th:only-of-type {\n",
       "        vertical-align: middle;\n",
       "    }\n",
       "\n",
       "    .dataframe tbody tr th {\n",
       "        vertical-align: top;\n",
       "    }\n",
       "\n",
       "    .dataframe thead th {\n",
       "        text-align: right;\n",
       "    }\n",
       "</style>\n",
       "<table border=\"1\" class=\"dataframe\">\n",
       "  <thead>\n",
       "    <tr style=\"text-align: right;\">\n",
       "      <th></th>\n",
       "      <th>Company/Candidate Name</th>\n",
       "      <th>Role</th>\n",
       "      <th>Sub-skill</th>\n",
       "    </tr>\n",
       "  </thead>\n",
       "  <tbody>\n",
       "    <tr>\n",
       "      <th>0</th>\n",
       "      <td>2C2P</td>\n",
       "      <td>Partnerships Manager</td>\n",
       "      <td>market research, business development, marketi...</td>\n",
       "    </tr>\n",
       "    <tr>\n",
       "      <th>1</th>\n",
       "      <td>ABeam Consulting Vietnam</td>\n",
       "      <td>Business Development Manager (Korean)</td>\n",
       "      <td>vietnamese, digital, business development, cli...</td>\n",
       "    </tr>\n",
       "    <tr>\n",
       "      <th>2</th>\n",
       "      <td>ABeam Consulting Vietnam</td>\n",
       "      <td>SAP Service Delivery Manager</td>\n",
       "      <td>vietnamese, digital, optimization, statistics,...</td>\n",
       "    </tr>\n",
       "    <tr>\n",
       "      <th>3</th>\n",
       "      <td>ABeam Consulting Vietnam</td>\n",
       "      <td>SAP SuccessFactors Consultant/Senior Consultant</td>\n",
       "      <td>vietnamese, digital, client, problem solving, ...</td>\n",
       "    </tr>\n",
       "    <tr>\n",
       "      <th>4</th>\n",
       "      <td>ACB - Asia Commercial Bank</td>\n",
       "      <td>Data Lake Developer</td>\n",
       "      <td>big data, hadoop, business strategy, predictiv...</td>\n",
       "    </tr>\n",
       "    <tr>\n",
       "      <th>...</th>\n",
       "      <td>...</td>\n",
       "      <td>...</td>\n",
       "      <td>...</td>\n",
       "    </tr>\n",
       "    <tr>\n",
       "      <th>856</th>\n",
       "      <td>dentsu</td>\n",
       "      <td>Digital Manager</td>\n",
       "      <td>digital, client, project management, communica...</td>\n",
       "    </tr>\n",
       "    <tr>\n",
       "      <th>857</th>\n",
       "      <td>dentsu</td>\n",
       "      <td>Media Intern</td>\n",
       "      <td>digital, digital marketing, marketing, english...</td>\n",
       "    </tr>\n",
       "    <tr>\n",
       "      <th>858</th>\n",
       "      <td>dentsu</td>\n",
       "      <td>Senior Creative Director</td>\n",
       "      <td>creative, ownership, client, project managemen...</td>\n",
       "    </tr>\n",
       "    <tr>\n",
       "      <th>859</th>\n",
       "      <td>interpool HR</td>\n",
       "      <td>IT Security Lead (m/f/d)</td>\n",
       "      <td>client, leadership, digital, ips, incident res...</td>\n",
       "    </tr>\n",
       "    <tr>\n",
       "      <th>860</th>\n",
       "      <td>ofi</td>\n",
       "      <td>Business Manager, Food Industry (Open to Expats)</td>\n",
       "      <td>strategies, communication, data analysis</td>\n",
       "    </tr>\n",
       "  </tbody>\n",
       "</table>\n",
       "<p>861 rows × 3 columns</p>\n",
       "</div>"
      ],
      "text/plain": [
       "         Company/Candidate Name  \\\n",
       "0                          2C2P   \n",
       "1      ABeam Consulting Vietnam   \n",
       "2      ABeam Consulting Vietnam   \n",
       "3      ABeam Consulting Vietnam   \n",
       "4    ACB - Asia Commercial Bank   \n",
       "..                          ...   \n",
       "856                      dentsu   \n",
       "857                      dentsu   \n",
       "858                      dentsu   \n",
       "859                interpool HR   \n",
       "860                         ofi   \n",
       "\n",
       "                                                 Role  \\\n",
       "0                                Partnerships Manager   \n",
       "1               Business Development Manager (Korean)   \n",
       "2                        SAP Service Delivery Manager   \n",
       "3     SAP SuccessFactors Consultant/Senior Consultant   \n",
       "4                                 Data Lake Developer   \n",
       "..                                                ...   \n",
       "856                                   Digital Manager   \n",
       "857                                      Media Intern   \n",
       "858                          Senior Creative Director   \n",
       "859                          IT Security Lead (m/f/d)   \n",
       "860  Business Manager, Food Industry (Open to Expats)   \n",
       "\n",
       "                                             Sub-skill  \n",
       "0    market research, business development, marketi...  \n",
       "1    vietnamese, digital, business development, cli...  \n",
       "2    vietnamese, digital, optimization, statistics,...  \n",
       "3    vietnamese, digital, client, problem solving, ...  \n",
       "4    big data, hadoop, business strategy, predictiv...  \n",
       "..                                                 ...  \n",
       "856  digital, client, project management, communica...  \n",
       "857  digital, digital marketing, marketing, english...  \n",
       "858  creative, ownership, client, project managemen...  \n",
       "859  client, leadership, digital, ips, incident res...  \n",
       "860           strategies, communication, data analysis  \n",
       "\n",
       "[861 rows x 3 columns]"
      ]
     },
     "execution_count": 34,
     "metadata": {},
     "output_type": "execute_result"
    }
   ],
   "source": [
    "grouped_df.drop(columns=\"Count\")"
   ]
  },
  {
   "cell_type": "code",
   "execution_count": null,
   "metadata": {},
   "outputs": [],
   "source": []
  }
 ],
 "metadata": {
  "kernelspec": {
   "display_name": "unclekhoa",
   "language": "python",
   "name": "python3"
  },
  "language_info": {
   "codemirror_mode": {
    "name": "ipython",
    "version": 3
   },
   "file_extension": ".py",
   "mimetype": "text/x-python",
   "name": "python",
   "nbconvert_exporter": "python",
   "pygments_lexer": "ipython3",
   "version": "3.12.3"
  }
 },
 "nbformat": 4,
 "nbformat_minor": 2
}
